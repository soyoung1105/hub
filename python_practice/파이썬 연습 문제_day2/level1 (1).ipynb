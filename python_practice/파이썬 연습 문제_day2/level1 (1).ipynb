{
 "cells": [
  {
   "cell_type": "markdown",
   "metadata": {
    "id": "WXEwMsfUct7U"
   },
   "source": [
    "안녕하세요.<br><br>\n",
    "수강생 여러분~! \n",
    "\n",
    "\"Challenge : Chapter05 ~ 08 문제풀기\"는 잘 풀어보셨나요?\n",
    "\n",
    "\n",
    "너~~무 어려웠어요! 하는 분들을 위해 만들어봤습니다!\n",
    "\n",
    "문제 도장깨기 !!!!!\n",
    "\n",
    "차근차근 풀어나가면 파이썬 정복 가능입니다!\n",
    "\n",
    "화이팅 !\n",
    "\n",
    "\n",
    "Chapter05~08의 수업 내용을 바탕으로 아래 문제를 풀어주시면 됩니다.\n",
    "\n",
    "<br>\n",
    "\n",
    "[**답변 입력 방법**]\n",
    "\n",
    "문제 아래에 있는 코드 입력창에 정답코드를 작성하신 후  __▷ 버튼을 클릭해 코드를 실행__ 해보세요<br>\n",
    "<br>"
   ]
  },
  {
   "cell_type": "markdown",
   "metadata": {
    "id": "qoyC9wF-3hvs"
   },
   "source": [
    "-----"
   ]
  },
  {
   "cell_type": "markdown",
   "metadata": {},
   "source": [
    "<br>\n",
    "\n",
    "__[문제1]__\n",
    "\n",
    "\n",
    "a와 b라는 변수를 각각 10과 20으로 초기화하고, 두 변수를 더한 값을 출력해보세요.\n",
    "\n",
    "\n",
    "<br>"
   ]
  },
  {
   "cell_type": "code",
   "execution_count": null,
   "metadata": {},
   "outputs": [],
   "source": [
    "a = 10\n",
    "b = 20\n",
    "result = a + b\n",
    "print(\"두 변수를 더한 값\", result)\n",
    "\n",
    "출력 = 30"
   ]
  },
  {
   "cell_type": "markdown",
   "metadata": {},
   "source": [
    "<br>\n",
    "\n",
    "__[문제2]__\n",
    "\n",
    "\n",
    "변수 num1에 15, num2에 4를 할당하고, 두 변수를 더한 값, 뺀 값, 곱한 값, 나눈 값을 각각 출력하세요.\n",
    "\n",
    "\n",
    "\n",
    "<br>"
   ]
  },
  {
   "cell_type": "code",
   "execution_count": null,
   "metadata": {},
   "outputs": [],
   "source": [
    "num1 = 15\n",
    "num2 = 4\n",
    "\n",
    "result = num1 + num2\n",
    "print(\"두 변수를 더한 값\",result)\n",
    "출력 = 19\n",
    "\n",
    "num1 = 15\n",
    "num2 = 4\n",
    "result = num1 - num2\n",
    "print(\"두 변수를 뺀 값\", result)\n",
    "출력 = 11\n",
    "\n",
    "num1 = 15\n",
    "num2 = 4\n",
    "result = num1 * num2\n",
    "print(\"두 변수를 곱한 값\", result)\n",
    "출력 = 60\n",
    "\n",
    "num1 = 15\n",
    "num2 = 4\n",
    "result = num1 / num2\n",
    "print(\"두 변수를 나눈 값\", result)\n",
    "출력 = 3.75\n"
   ]
  },
  {
   "cell_type": "markdown",
   "metadata": {
    "id": "rAD_O3Gmc_43"
   },
   "source": [
    "<br>\n",
    "\n",
    "__[문제3]__\n",
    "\n",
    "변수 x에 5를 할당하고, 변수 y에 3을 할당한 후, x가 y보다 크거나 같은지 비교해서 bool타입으로 출력해주세요."
   ]
  },
  {
   "cell_type": "code",
   "execution_count": null,
   "metadata": {
    "id": "74wtVQFFc_h1"
   },
   "outputs": [],
   "source": [
    "x = 5\n",
    "y = 3\n",
    "print(x >= y ) \n",
    "\n",
    "True"
   ]
  },
  {
   "cell_type": "markdown",
   "metadata": {
    "id": "3uK_auXYdgk2"
   },
   "source": [
    "<br>__[문제4]__\n",
    "\n",
    "자료형 (int, float, str, bool) 변수를 만들어보고, print()해서 결과를 확인하세요!\n"
   ]
  },
  {
   "cell_type": "code",
   "execution_count": null,
   "metadata": {
    "id": "9kvBxa6PdhgA"
   },
   "outputs": [],
   "source": [
    "intiger_1 = 5\n",
    "float_ 2 = 2.0\n",
    "string_3 = \"힘들어요 여러분\"\n",
    "bool_4 = True\n",
    "\n",
    "print(\"정수\",intiger_1) 출력 = 5\n",
    "print(\"실수\",float_2) 출력 = 2.0\n",
    "print(\"문자열\",string_3) 출력 = 힘들어요 여러분\n",
    "print(\"불\",bool_4) 출력 = True"
   ]
  },
  {
   "cell_type": "markdown",
   "metadata": {
    "id": "2Jte2VLKdiPm"
   },
   "source": [
    "__[문제5]__\n",
    "\n",
    "\n",
    "str을 3가지 이상의 다른 문자열 슬라이싱을 이용하여 확인해보세요!\n",
    "\n",
    "str = \"야호야호야호호야호야야오햐오햐오햐오\"\n",
    "\n",
    "출력 예)\n",
    "\n",
    "처음 5글자: 야호야호야\n"
   ]
  },
  {
   "cell_type": "code",
   "execution_count": null,
   "metadata": {},
   "outputs": [],
   "source": [
    "str = \"야호야호야호호야호야야오햐오햐오햐오\"\n",
    "\n",
    "print(\"처음5글자:\",str[:5]) 출력 = 야호야호야\n",
    "print(\"처음3글자:\",str[:3]) 출력 = 야호야\n",
    "print(\"뒤에서2글자:\",str[:-2]) 출력 = 오햐"
   ]
  }
 ],
 "metadata": {
  "colab": {
   "authorship_tag": "ABX9TyM3gebHvdgzn1rFsPHWTyo9",
   "provenance": []
  },
  "kernelspec": {
   "display_name": "Python 3",
   "name": "python3"
  },
  "language_info": {
   "codemirror_mode": {
    "name": "ipython",
    "version": 3
   },
   "file_extension": ".py",
   "mimetype": "text/x-python",
   "name": "python",
   "nbconvert_exporter": "python",
   "pygments_lexer": "ipython3",
   "version": "3.12.3"
  }
 },
 "nbformat": 4,
 "nbformat_minor": 0
}
