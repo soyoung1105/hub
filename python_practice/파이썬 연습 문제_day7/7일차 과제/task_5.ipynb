{
 "cells": [
  {
   "cell_type": "markdown",
   "metadata": {},
   "source": [
    "datetime 모듈을 사용하여 현재 날짜와 시간을 출력하는 프로그램을 작성하세요. \n",
    "\n",
    "또한, 사용자로부터 태어난 년도를 입력받아 현재 나이를 계산하여 출력하세요."
   ]
  },
  {
   "cell_type": "code",
   "execution_count": null,
   "metadata": {},
   "outputs": [
    {
     "ename": "ModuleNotFoundError",
     "evalue": "No module named 'daytime'",
     "output_type": "error",
     "traceback": [
      "\u001b[31m---------------------------------------------------------------------------\u001b[39m",
      "\u001b[31mModuleNotFoundError\u001b[39m                       Traceback (most recent call last)",
      "\u001b[36mCell\u001b[39m\u001b[36m \u001b[39m\u001b[32mIn[23]\u001b[39m\u001b[32m, line 1\u001b[39m\n\u001b[32m----> \u001b[39m\u001b[32m1\u001b[39m \u001b[38;5;28;01mimport\u001b[39;00m\u001b[38;5;250m \u001b[39m\u001b[34;01mdaytime\u001b[39;00m\n\u001b[32m      4\u001b[39m now = daytime.daytime.now()\n\u001b[32m      6\u001b[39m \u001b[38;5;28mprint\u001b[39m(now.year, \u001b[33m\"\u001b[39m\u001b[33m년\u001b[39m\u001b[33m\"\u001b[39m)\n",
      "\u001b[31mModuleNotFoundError\u001b[39m: No module named 'daytime'"
     ]
    }
   ],
   "source": [
    "import daytime\n",
    "\n",
    "\n",
    "now = daytime.daytime.now()\n",
    "\n",
    "print(now.year, \"년\")\n",
    "print(now.month, \"월\")\n",
    "print(now.day, \"일\")\n",
    "print(now.time, \"시\")\n",
    "print(now.minute, \"분\")\n",
    "print(now.second, \"초\")\n",
    "print(\"오늘 날짜와 시간 출력\")\n",
    "\n",
    "print(\"다양한 시간 포맷\")\n",
    "\n",
    "now = daytime.daytime.now()\n",
    "output_1 = now.strtime(\"%Y.%m.%d %H.%M:%S\")\n",
    "output_2 = f'{now.year}년 {now.mounth월} {now.day일} {now.hour시} {now.minute분} {now.second초}'\n",
    "output_3 = now.strtime(\"%Y{} %m{} %d{} %H{} %M{} %S{}\").format(*\"년월일시분초\")\n",
    "\n",
    "print(output_1)\n",
    "print(output_2)\n",
    "print(output_3)\n",
    "\n",
    "#출력이 안됩니다,,,ㅜㅜ"
   ]
  }
 ],
 "metadata": {
  "kernelspec": {
   "display_name": "Python 3",
   "language": "python",
   "name": "python3"
  },
  "language_info": {
   "codemirror_mode": {
    "name": "ipython",
    "version": 3
   },
   "file_extension": ".py",
   "mimetype": "text/x-python",
   "name": "python",
   "nbconvert_exporter": "python",
   "pygments_lexer": "ipython3",
   "version": "3.13.2"
  }
 },
 "nbformat": 4,
 "nbformat_minor": 2
}
