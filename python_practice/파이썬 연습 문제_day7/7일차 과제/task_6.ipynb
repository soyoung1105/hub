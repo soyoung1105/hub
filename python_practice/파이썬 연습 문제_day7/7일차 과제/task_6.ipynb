{
 "cells": [
  {
   "cell_type": "markdown",
   "metadata": {},
   "source": [
    "requests 모듈을 사용하여, 웹 페이지의 HTML을 가져오는 간단한 웹 스크레이퍼를 작성하세요.\n",
    "\n",
    "'https://kream.co.kr/'에서<br> \n",
    "데이터를 가져와서 상태 코드와 HTML의 첫 100자를 출력하세요.<br>\n",
    "(실습 전 requests 모듈을 설치해야 함)"
   ]
  },
  {
   "cell_type": "markdown",
   "metadata": {},
   "source": []
  },
  {
   "cell_type": "code",
   "execution_count": 3,
   "metadata": {},
   "outputs": [
    {
     "name": "stdout",
     "output_type": "stream",
     "text": [
      "HTTP 상태 코드: 500\n",
      "HTML 내용: <!DOCTYPE html>\n",
      "<html lang=\"ko\">\n",
      "<head>\n",
      "<meta name=\"robots\" content=\"noindex, nofollow\" />\n",
      "<meta htt\n"
     ]
    }
   ],
   "source": [
    "\n",
    "\n",
    "import requests\n",
    "\n",
    "# 요청할 웹사이트 URL\n",
    "url = \"https://kream.co.kr/\"\n",
    "\n",
    "# 웹 요청 (User-Agent 헤더 추가)\n",
    "headers = {\n",
    "    \"User-Agent\": \"Mozilla/5.0 (Windows NT 10.0; Win64; x64) AppleWebKit/537.36 (KHTML, like Gecko) Chrome/120.0.0.0 Safari/537.36\"\n",
    "}\n",
    "response = requests.get(url, headers=headers)\n",
    "\n",
    "# 상태 코드 출력\n",
    "print(\"HTTP 상태 코드:\", response.status_code)\n",
    "\n",
    "# HTML 일부 출력\n",
    "print(\"HTML 내용:\", response.text[:100])\n"
   ]
  }
 ],
 "metadata": {
  "kernelspec": {
   "display_name": "Python 3",
   "language": "python",
   "name": "python3"
  },
  "language_info": {
   "codemirror_mode": {
    "name": "ipython",
    "version": 3
   },
   "file_extension": ".py",
   "mimetype": "text/x-python",
   "name": "python",
   "nbconvert_exporter": "python",
   "pygments_lexer": "ipython3",
   "version": "3.13.2"
  }
 },
 "nbformat": 4,
 "nbformat_minor": 2
}
