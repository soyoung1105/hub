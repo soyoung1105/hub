{
 "cells": [
  {
   "cell_type": "markdown",
   "metadata": {},
   "source": [
    "0부터 시작하여 n까지의 숫자 중에서 홀수만 생성하는 제너레이터 odd_numbers를 작성하세요."
   ]
  },
  {
   "cell_type": "code",
   "execution_count": 7,
   "metadata": {},
   "outputs": [
    {
     "ename": "NameError",
     "evalue": "name 'oz' is not defined",
     "output_type": "error",
     "traceback": [
      "\u001b[31m---------------------------------------------------------------------------\u001b[39m",
      "\u001b[31mNameError\u001b[39m                                 Traceback (most recent call last)",
      "\u001b[36mCell\u001b[39m\u001b[36m \u001b[39m\u001b[32mIn[7]\u001b[39m\u001b[32m, line 7\u001b[39m\n\u001b[32m      3\u001b[39m     \u001b[38;5;28;01mfor\u001b[39;00m i \u001b[38;5;129;01min\u001b[39;00m \u001b[38;5;28mrange\u001b[39m(start, end, multiple):\n\u001b[32m      5\u001b[39m         \u001b[38;5;28mprint\u001b[39m(i, \u001b[33m\"\u001b[39m\u001b[33m \u001b[39m\u001b[33m\"\u001b[39m, end=\u001b[33m\"\u001b[39m\u001b[33m\"\u001b[39m)\n\u001b[32m----> \u001b[39m\u001b[32m7\u001b[39m \u001b[43moz\u001b[49m(\u001b[32m1\u001b[39m, \u001b[32m9\u001b[39m ,\u001b[32m3\u001b[39m)  \n\u001b[32m      8\u001b[39m oz(start=\u001b[32m1\u001b[39m, end=\u001b[32m9\u001b[39m, multiple=\u001b[32m3\u001b[39m)  \n\u001b[32m     10\u001b[39m \u001b[38;5;28mprint\u001b[39m(odd_numbers)\n",
      "\u001b[31mNameError\u001b[39m: name 'oz' is not defined"
     ]
    }
   ],
   "source": [
    "def odd_numbers(start, end, multiple):\n",
    "\n",
    "    for i in range(start, end, multiple):\n",
    "         \n",
    "        print(i, \" \", end=\"\")\n",
    "    \n",
    "oz(1, 9 ,3)  \n",
    "oz(start=1, end=9, multiple=3)  \n",
    "\n",
    "print(odd_numbers)"
   ]
  },
  {
   "cell_type": "markdown",
   "metadata": {},
   "source": []
  }
 ],
 "metadata": {
  "kernelspec": {
   "display_name": "Python 3",
   "language": "python",
   "name": "python3"
  },
  "language_info": {
   "codemirror_mode": {
    "name": "ipython",
    "version": 3
   },
   "file_extension": ".py",
   "mimetype": "text/x-python",
   "name": "python",
   "nbconvert_exporter": "python",
   "pygments_lexer": "ipython3",
   "version": "3.13.2"
  }
 },
 "nbformat": 4,
 "nbformat_minor": 2
}
