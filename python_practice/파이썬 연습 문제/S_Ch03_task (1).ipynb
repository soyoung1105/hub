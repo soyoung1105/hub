{
 "cells": [
  {
   "cell_type": "markdown",
   "metadata": {},
   "source": [
    "<span style=\"font-size:100%\">\n",
    "\n",
    "수업은 모두 열심히 들으셨나요?\n",
    "\n",
    "간혹 강의에서 언급되지 않은 내용이 문제로 나올 수 있습니다.<br>\n",
    "그럴땐 강의 내용 외 문제는 구글링을 통해 해결해주세요<br></span>\n",
    "<span style=\"font-size:80%\">\n",
    "(구글링 또한 개발자가 갖쳐야할 역량 중에 하나랍니다 😊)\n",
    "</span>\n",
    "\n",
    "---"
   ]
  },
  {
   "cell_type": "markdown",
   "metadata": {},
   "source": [
    "<span style=\"font-size:80%\">[문제1]<br><br></span>\n",
    "```주로 작성 중인 코드의 끝을 알리는 기호로 사용되며 파이썬에서 한 줄에 작성된 서로 다른 코드를 구분 지을 때 사용할 수 있는 기호를 골라주세요```\n",
    "\n",
    "1. ' , ' (쉼표)\n",
    "2. ' + ' (더하기 기호)\n",
    "3. ' ; ' (세미콜론)\n",
    "4. ' / ' (슬래시)"
   ]
  },
  {
   "cell_type": "markdown",
   "metadata": {},
   "source": [
    "<span style=\"color:red\">답변</span> :"
   ]
  },
  {
   "cell_type": "markdown",
   "metadata": {},
   "source": [
    ","
   ]
  },
  {
   "cell_type": "markdown",
   "metadata": {},
   "source": [
    "----"
   ]
  },
  {
   "cell_type": "markdown",
   "metadata": {},
   "source": [
    "<span style=\"font-size:80%\">[문제2]<br><br></span>\n",
    "```Python의 PEP 8은 무엇인지 설명하고 PEP 8의 핵심적인 규칙을 1개 이상을 설명해주세요```"
   ]
  },
  {
   "cell_type": "markdown",
   "metadata": {},
   "source": [
    "<span style=\"color:red\">답변</span>"
   ]
  },
  {
   "cell_type": "markdown",
   "metadata": {},
   "source": [
    "파이썬의 PEP(Python Enhancement Proposal)는 파이썬 커뮤니티에 정보를 제공하거나, 새로운 기능을 설명하는 설계 문서입니다. 파이썬의 발전 과정에서 논의된 주제를 문서화한 것으로, 파이썬 언어의 발전에 기여하고 있습니다.\n",
    "PEP의 핵심적인 규칙 중에 하나는 들여쓰기입니다. 들여쓰기는 공백 4칸을 사용해야 합니다. 이는 코드의 구조를 명확하게 하며, 가독성을 높입니다. 둘째, 한 줄은 최대 79자까지만 작성하는 것이 좋습니다."
   ]
  },
  {
   "cell_type": "markdown",
   "metadata": {},
   "source": [
    "----"
   ]
  },
  {
   "cell_type": "markdown",
   "metadata": {},
   "source": [
    "<span style=\"font-size:80%\">[문제3]<br><br></span>\n",
    "```Python에서 \"#\"이 의마하는 것은 무엇인지 설명해주세요```"
   ]
  },
  {
   "cell_type": "markdown",
   "metadata": {},
   "source": [
    "<span style=\"color:red\">답변</span>"
   ]
  },
  {
   "cell_type": "markdown",
   "metadata": {},
   "source": [
    "파이썬에서 #은 **주석(comment)**을 표시하는 데 사용됩니다. 주석은 코드 내에서 설명을 추가할 때 사용되며, 파이썬 인터프리터는 이를 무시하고 실행하지 않습니다. 주석은 코드의 가독성을 높이고, 다른 사람이 코드를 이해할 수 있도록 돕는 역할을 합니다.\n",
    "\n"
   ]
  },
  {
   "cell_type": "markdown",
   "metadata": {},
   "source": [
    "----"
   ]
  },
  {
   "cell_type": "markdown",
   "metadata": {},
   "source": [
    "<span style=\"font-size:80%\">[문제4]<br><br></span>\n",
    "```Python의 들여쓰기 장점과 기능에 대해 설명해주세요```"
   ]
  },
  {
   "cell_type": "markdown",
   "metadata": {},
   "source": [
    "<span style=\"color:red\">답변</span>"
   ]
  },
  {
   "cell_type": "markdown",
   "metadata": {},
   "source": [
    "파이썬에서 들여쓰기는 코드 블록을 구분하는 데 중요한 역할을 합니다. 다른 프로그래밍 언어에서는 중괄호 {}를 사용하여 코드 블록을 구분하는 경우가 많지만, 파이썬은 들여쓰기로 이를 대체합니다. 들여쓰기는 파이썬의 문법에서 필수적인 요소이며, 그 장점과 기능은 다음과 같습니다.\n",
    "1.가독성 향상\n",
    "2.코드 구조 명확화\n",
    "3.자동화 된 오류 방지\n",
    "4.구문 간소화\n",
    "5.일관된 스타일\n",
    "6.블록 내 코드 실행 순서 명확화 입니다."
   ]
  },
  {
   "cell_type": "markdown",
   "metadata": {},
   "source": [
    "----"
   ]
  },
  {
   "cell_type": "markdown",
   "metadata": {},
   "source": [
    "<span style=\"font-size:80%\">[문제5]<br><br></span>\n",
    "```print( )문의 기능 및 특징에 대해 설명해주세요```"
   ]
  },
  {
   "cell_type": "markdown",
   "metadata": {},
   "source": [
    "<span style=\"color:red\">답변</span>"
   ]
  },
  {
   "cell_type": "markdown",
   "metadata": {},
   "source": [
    "print() 문은 파이썬에서 가장 기본적이고 자주 사용되는 함수로, 프로그램의 실행 결과를 콘솔에 출력하는 기능을 제공합니다.\n",
    "1.콘솔 출력\n",
    "2.여려개의 인자 출력\n",
    "3.자동 줄 바꿈\n",
    "4.구분자 변경\n",
    "5.끝내는 문자 변경이 있습니다."
   ]
  }
 ],
 "metadata": {
  "language_info": {
   "name": "python"
  }
 },
 "nbformat": 4,
 "nbformat_minor": 2
}
