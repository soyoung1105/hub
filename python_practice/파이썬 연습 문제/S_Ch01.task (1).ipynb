{
 "cells": [
  {
   "cell_type": "markdown",
   "metadata": {},
   "source": [
    "<span style=\"font-size:100%\">\n",
    "\n",
    "수업은 모두 열심히 들으셨나요?\n",
    "\n",
    "간혹 강의에서 언급되지 않은 내용이 문제로 나올 수 있습니다.<br>\n",
    "그럴땐 강의 내용 외 문제는 구글링을 통해 해결해주세요<br></span>\n",
    "<span style=\"font-size:80%\">\n",
    "(구글링 또한 개발자가 갖쳐야할 역량 중에 하나랍니다 😊)\n",
    "</span>\n",
    "\n",
    "---"
   ]
  },
  {
   "cell_type": "markdown",
   "metadata": {},
   "source": [
    "<span style=\"font-size:80%\">[문제1]<br><br></span>\n",
    "```인터프리트 방식에 대해 설명하고 2개 이상의 장점을 설명해주세요```"
   ]
  },
  {
   "cell_type": "markdown",
   "metadata": {},
   "source": [
    "<span style=\"color:red\">답변</span>"
   ]
  },
  {
   "cell_type": "markdown",
   "metadata": {},
   "source": [
    "바로 실행이 가능하므로 코드 수정에 용이하고 전체적인 개발 기간이 비교적 적다는 장점이 있습니다. 또한, 플랫폼에 독립적이기 때문에 각 플랫폼에 지원하는 인터프리터만 있다면 실행 가능하다는 장점이 있습니다."
   ]
  },
  {
   "cell_type": "markdown",
   "metadata": {},
   "source": [
    "---"
   ]
  },
  {
   "cell_type": "markdown",
   "metadata": {},
   "source": [
    "<span style=\"font-size:80%\">[문제2]<br><br></span>\n",
    "```동적 타입 방식의 장점과 단점을 간략히 설명해주세요```"
   ]
  },
  {
   "cell_type": "markdown",
   "metadata": {},
   "source": [
    "<span style=\"color:red\">답변</span>"
   ]
  },
  {
   "cell_type": "markdown",
   "metadata": {},
   "source": [
    "장점: 코드 작성시 타임(용도)에 제한이 없기 때문애 유연성이 높고 효율적임.\n",
    "단점: 프로그램 실행 시 타입에 문제를 확인할 수 없기 때문에 코드가 길고 복잡할 경우 문제 해결이 쉽지 않음."
   ]
  },
  {
   "cell_type": "markdown",
   "metadata": {},
   "source": [
    "---"
   ]
  },
  {
   "cell_type": "markdown",
   "metadata": {},
   "source": [
    "<span style=\"font-size:80%\">[문제3]<br><br></span>\n",
    "```Python으로 정적타입 방식의 코드를 작성할 수 있는 방법을 구글링을 통해 검색 후 설명해주세요```"
   ]
  },
  {
   "cell_type": "markdown",
   "metadata": {},
   "source": [
    "<span style=\"color:red\">답변</span>"
   ]
  },
  {
   "cell_type": "markdown",
   "metadata": {},
   "source": [
    "\n",
    "1. 타입 힌트 사용하기\n",
    "파이썬 3.5부터 타입 힌트를 사용하여 함수나 변수에 예상되는 타입을 명시할 수 있습니다. 타입 힌트는 코드 실행에 영향을 미치지 않지만, IDE나 코드 분석 도구에서 타입 검사를 할 수 있습니다.\n",
    "2. 정적 타입 검사 도구 사용하기\n",
    "타입 힌트만으로는 실제로 타입을 강제하지 않기 때문에, 정적 타입 검사를 위한 도구를 사용하여 코드에서 타입 일관성을 확인할 수 있습니다. 대표적인 도구는 mypy입니다.\n",
    "3. dataclasses와 typing 모듈을 활용하기\n",
    "파이썬에서는 dataclasses 모듈과 typing 모듈을 사용하여 더 구체적이고 정적인 타입을 정의할 수 있습니다.\n",
    "4. pyright 사용하기 (VSCode에서 주로 사용)\n",
    "pyright는 VSCode에서 많이 사용하는 정적 타입 검사 도구입니다. pyright는 타입 힌트를 기반으로 코드의 타입을 검사해 주고, 코드를 작성하면서 실시간으로 오류를 확인할 수 있습니다.\n",
    "\n",
    "\n"
   ]
  },
  {
   "cell_type": "markdown",
   "metadata": {},
   "source": [
    "---"
   ]
  },
  {
   "cell_type": "markdown",
   "metadata": {},
   "source": [
    "<span style=\"font-size:80%\">[문제4]<br><br></span>\n",
    "```프로세스와 스레드의 차이점을 설명해주세요```"
   ]
  },
  {
   "cell_type": "markdown",
   "metadata": {},
   "source": [
    "<span style=\"color:red\">답변</span>"
   ]
  },
  {
   "cell_type": "markdown",
   "metadata": {},
   "source": [
    "프로세스와 스레드는 모두 서로 관련되어 있고 매우 유사하므로 둘 사이의 차이점을 이해하는데 혼한을 야기한다. 프로세스와 스레드는 독립적인 실행순서이지만 프로세스사 서로 다른 메모리 공간에서 실행되는 반면 동일한 프로세스의 스레드는 공유 메모리 공간에서 실행된다는 점에서 차이가 있다."
   ]
  },
  {
   "cell_type": "markdown",
   "metadata": {},
   "source": [
    "---"
   ]
  },
  {
   "cell_type": "markdown",
   "metadata": {},
   "source": [
    "<span style=\"font-size:80%\">[문제5]<br><br></span>\n",
    "```Python 2버전대와 3버전대의 차이를 성명해주세요```"
   ]
  },
  {
   "cell_type": "markdown",
   "metadata": {},
   "source": [
    "<span style=\"color:red\">답변</span>"
   ]
  },
  {
   "cell_type": "markdown",
   "metadata": {},
   "source": [
    "Python 3 구문은 더 간단하고 이해하기 쉽지만, Python 2 구문은 비교적 이해하기 어렵습니다.\n",
    "Python 3 기본 문자열 저장은 유니코드인 반면 Python 2개 매장에서는 \"u\"로 유니코드 문자열 값을 정의해야 합니다.\n",
    "Python 변수의 3개 값은 절대 변하지 않지만 Python for-loop 내에서 전역 변수를 사용하는 동안 전역 변수의 2 값이 변경됩니다.\n",
    "Python 3개의 예외는 괄호로 묶어야 하지만 Python 2개의 예외는 표기법으로 묶어야 합니다.\n",
    "Python 비교 순서 지정의 3가지 규칙은 단순화되었지만 Python 2가지 순서 비교 규칙은 복잡합니다.\n",
    "Python 3은 반복을 수행하는 Range() 함수를 제공하는 반면, In Python 2에서는 xrange()가 반복에 사용됩니다.\n"
   ]
  },
  {
   "cell_type": "markdown",
   "metadata": {},
   "source": [
    "---"
   ]
  },
  {
   "cell_type": "markdown",
   "metadata": {},
   "source": [
    "<span style=\"font-size:80%\">[문제6]<br><br></span>\n",
    "```Python에서 메모리 관리는 어떻게 이루어지는지 설명해주세요```"
   ]
  },
  {
   "cell_type": "markdown",
   "metadata": {},
   "source": [
    "<span style=\"color:red\">답변</span>"
   ]
  },
  {
   "cell_type": "markdown",
   "metadata": {},
   "source": [
    "파이썬은 C 또는 C++과 같이 프로그래머가 직접 메모리를 관리하지 않고 레퍼런스 카운트(Reference Counts)와 가비지 콜렉션(Automatic Garbage Collection)에 의해 관리됩니다.\n",
    "내부적으로 malloc()와 free()를 많이 사용하기 때문에 메모리 누수의 위험이 있습니다. 이런 이슈가 있기 때문에 파이썬은 메모리를 관리하기 위한 전략으로 레퍼런스 카운트를 사용합니다.\n",
    "\n",
    "레퍼런스 카운트 전략이란 파이썬의 모든 객체에 카운트를 포함하고, 이 카운트는 객체가 참조될 때 증가하고, 참조가 삭제될 때 감소시키는 방식으로 작동됩니다. 이때 카운터가 0이 되면 메모리가 할당이 삭제됩니다.\n",
    "파이썬은 기본적으로 레퍼런스 카운트를 통해 메모리를 관리합니다. 레퍼런스 카운트는 메모리 관리에 매우 효율적으로 동작하지만, 레퍼런스 카운트만으로 메모리를 관리했을 때 약점이 있습니다.\n",
    "\n"
   ]
  }
 ],
 "metadata": {
  "language_info": {
   "name": "python"
  }
 },
 "nbformat": 4,
 "nbformat_minor": 2
}
